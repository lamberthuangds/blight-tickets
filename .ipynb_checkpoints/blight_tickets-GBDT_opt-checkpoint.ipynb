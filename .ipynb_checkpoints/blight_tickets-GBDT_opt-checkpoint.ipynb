{
 "cells": [
  {
   "cell_type": "code",
   "execution_count": 88,
   "metadata": {},
   "outputs": [
    {
     "name": "stdout",
     "output_type": "stream",
     "text": [
      "Grid best parameter (max. AUC):  {'max_depth': 4, 'n_estimators': 100}\n",
      "Grid best score (AUC):  0.7860258872639522\n",
      "time spend: 262.6252 sec\n"
     ]
    }
   ],
   "source": [
    "import numpy as np\n",
    "import pandas as pd\n",
    "import time\n",
    "from sklearn.model_selection import train_test_split\n",
    "from sklearn.preprocessing import LabelEncoder\n",
    "from sklearn.ensemble import GradientBoostingClassifier\n",
    "from sklearn.model_selection import GridSearchCV\n",
    "from sklearn.preprocessing import MinMaxScaler\n",
    "from sklearn.metrics import roc_auc_score\n",
    "\n",
    "start = time.time()\n",
    "df = pd.read_csv('train.csv',encoding = 'ISO-8859-1', low_memory=False, index_col=['ticket_id'])\n",
    "test_df = pd.read_csv('test.csv',encoding = 'ISO-8859-1', low_memory=False, index_col=['ticket_id'])\n",
    "address =  pd.read_csv('addresses.csv')\n",
    "latlons = pd.read_csv('latlons.csv')\n",
    "address = address.set_index('address').join(latlons.set_index('address'), how='left')\n",
    "\n",
    "# data cleaning and first SFeatures selection\n",
    "sFeatures = ['agency_name',\n",
    " 'inspector_name',\n",
    " 'violator_name',\n",
    " 'zip_code',\n",
    " 'ticket_issued_date',\n",
    " 'hearing_date',\n",
    " 'violation_code',\n",
    " 'violation_description',\n",
    " 'disposition',\n",
    " 'fine_amount',\n",
    " 'judgment_amount',\n",
    " 'compliance'] \n",
    "\n",
    "df = df[sFeatures].dropna(axis=0, how='any')\n",
    "df['date_delta'] = (pd.to_datetime(df['hearing_date']) - pd.to_datetime(df['ticket_issued_date'])).astype(int)\n",
    "xdf = df.drop(['ticket_issued_date','hearing_date'],axis=1)\n",
    "xdf = df.join(address.set_index('ticket_id'))\n",
    "test_df['date_delta'] = (pd.to_datetime(test_df['hearing_date']) - pd.to_datetime(test_df['ticket_issued_date'])).astype(int)\n",
    "testdf = test_df.join(address.set_index('ticket_id'))\n",
    "\n",
    "# Select X_train features for train and extract target vaule to y\n",
    "xFeatures = ['agency_name','disposition','judgment_amount','lat','lon','date_delta','compliance']\n",
    "y = xdf['compliance']\n",
    "X = xdf[xFeatures].drop(['compliance'],axis=1)\n",
    "tFeatures = xFeatures.copy()\n",
    "tFeatures.remove('compliance')\n",
    "Xt = testdf[tFeatures].copy()\n",
    "\n",
    "# LabelEncoder categorical angecy_name and disposition\n",
    "le_agency = LabelEncoder().fit(np.array(X['agency_name'].tolist()))\n",
    "le_disposition = LabelEncoder().fit(np.array(Xt['disposition'].tolist()))\n",
    "\n",
    "# X.loc[:,'agency_name'] = le_agency.transform(X.loc[:,'agency_name'])\n",
    "# X.loc[:,'disposition'] = le_disposition.transform(X.loc[:,'disposition'])\n",
    "# Xt.loc[:,'agency_name'] = le_agency.transform(Xt.loc[:,'agency_name'])\n",
    "# Xt.loc[:,'disposition'] = le_disposition.transform(Xt.loc[:,'disposition'])\n",
    "\n",
    "X.loc[:,'agency_name'] = le_agency.transform(X['agency_name'])\n",
    "X.loc[:,'disposition'] = le_disposition.transform(X['disposition'])\n",
    "Xt.loc[:,'agency_name'] = le_agency.transform(Xt['agency_name'])\n",
    "Xt.loc[:,'disposition'] = le_disposition.transform(Xt['disposition'])\n",
    "\n",
    "# Fill NA Lat Lon Values\n",
    "X.lat.fillna(method='pad', inplace=True)\n",
    "X.lon.fillna(method='pad', inplace=True)\n",
    "Xt.lat.fillna(method='pad', inplace=True)\n",
    "Xt.lon.fillna(method='pad', inplace=True)\n",
    "y_train = y\n",
    "scaler = MinMaxScaler()\n",
    "X_train = scaler.fit_transform(X)\n",
    "X_test = scaler.transform(Xt)\n",
    "# print(X.shape, X_train.shape, X_test.shape,y_train.shape,y_test.shape)\n",
    "\n",
    "# Grid Search best param\n",
    "gbdt = GradientBoostingClassifier().fit(X_train, y_train)\n",
    "grid_values = {'n_estimators': [100, 200], 'max_depth': [4,6,8]}\n",
    "grid_clf_auc = GridSearchCV(gbdt, param_grid = grid_values, scoring = 'roc_auc')\n",
    "grid_clf_auc.fit(X_train, y_train)\n",
    "print('Grid best parameter (max. AUC): ', grid_clf_auc.best_params_)\n",
    "print('Grid best score (AUC): ', grid_clf_auc.best_score_)\n",
    "\n",
    "# Gradient Boosting Classification\n",
    "# gbdt = GradientBoostingClassifier(n_estimators=200, max_depth=4).fit(X_train, y_train)\n",
    "# score = gbdt.score(X_train, y_train)\n",
    "# yp_X = gbdt.predict(X_train)\n",
    "# aucscore = roc_auc_score(y_train,yp_X)\n",
    "# yp_Xt = gbdt.predict_proba(X_test)\n",
    "# print('X_train score = ',score)\n",
    "# print('feature_importances = ', gbdt.feature_importances_)\n",
    "# print('roc_auc = ',aucscore)\n",
    "# print('yp_X', yp_X[0:10])\n",
    "# print('yp_Xt', yp_Xt[0:10])\n",
    "\n",
    "end = time.time()\n",
    "print('time spend: %.4f sec' %(end - start))"
   ]
  },
  {
   "cell_type": "code",
   "execution_count": 7,
   "metadata": {},
   "outputs": [
    {
     "name": "stdout",
     "output_type": "stream",
     "text": [
      "(250306, 33)\n",
      "(61001, 26)\n",
      "(311307, 3)\n",
      "(121769, 3)\n"
     ]
    }
   ],
   "source": [
    "print(df.shape)\n",
    "print(test_df.shape)\n",
    "print(address.shape)\n",
    "print(latlons.shape)"
   ]
  },
  {
   "cell_type": "code",
   "execution_count": 8,
   "metadata": {},
   "outputs": [
    {
     "data": {
      "text/plain": [
       "Index(['agency_name', 'inspector_name', 'violator_name',\n",
       "       'violation_street_number', 'violation_street_name',\n",
       "       'violation_zip_code', 'mailing_address_str_number',\n",
       "       'mailing_address_str_name', 'city', 'state', 'zip_code',\n",
       "       'non_us_str_code', 'country', 'ticket_issued_date', 'hearing_date',\n",
       "       'violation_code', 'violation_description', 'disposition', 'fine_amount',\n",
       "       'admin_fee', 'state_fee', 'late_fee', 'discount_amount',\n",
       "       'clean_up_cost', 'judgment_amount', 'payment_amount', 'balance_due',\n",
       "       'payment_date', 'payment_status', 'collection_status',\n",
       "       'grafitti_status', 'compliance_detail', 'compliance'],\n",
       "      dtype='object')"
      ]
     },
     "execution_count": 8,
     "metadata": {},
     "output_type": "execute_result"
    }
   ],
   "source": [
    "df.columns"
   ]
  },
  {
   "cell_type": "code",
   "execution_count": 61,
   "metadata": {},
   "outputs": [
    {
     "name": "stdout",
     "output_type": "stream",
     "text": [
      "Grid best parameter (max. AUC):  {'n_estimators': 200, 'max_depth': 4}\n",
      "Grid best score (AUC):  0.7912309160880067\n"
     ]
    }
   ],
   "source": [
    "# Grid Search best param\n",
    "grid_values = {'n_estimators': [200], 'max_depth': [4,6,8]}\n",
    "grid_clf_auc = GridSearchCV(gbdt, param_grid = grid_values, scoring = 'roc_auc')\n",
    "grid_clf_auc.fit(X_train, y_train)\n",
    "print('Grid best parameter (max. AUC): ', grid_clf_auc.best_params_)\n",
    "print('Grid best score (AUC): ', grid_clf_auc.best_score_)\n"
   ]
  },
  {
   "cell_type": "code",
   "execution_count": null,
   "metadata": {
    "collapsed": true
   },
   "outputs": [],
   "source": []
  },
  {
   "cell_type": "code",
   "execution_count": null,
   "metadata": {
    "collapsed": true
   },
   "outputs": [],
   "source": []
  }
 ],
 "metadata": {
  "kernelspec": {
   "display_name": "Python 3",
   "language": "python",
   "name": "python3"
  },
  "language_info": {
   "codemirror_mode": {
    "name": "ipython",
    "version": 3
   },
   "file_extension": ".py",
   "mimetype": "text/x-python",
   "name": "python",
   "nbconvert_exporter": "python",
   "pygments_lexer": "ipython3",
   "version": "3.6.4"
  }
 },
 "nbformat": 4,
 "nbformat_minor": 2
}
