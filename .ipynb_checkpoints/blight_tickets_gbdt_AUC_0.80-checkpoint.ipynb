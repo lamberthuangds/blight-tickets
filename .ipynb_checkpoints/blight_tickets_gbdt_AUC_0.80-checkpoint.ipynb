{
 "cells": [
  {
   "cell_type": "code",
   "execution_count": 58,
   "metadata": {
    "collapsed": true
   },
   "outputs": [],
   "source": [
    "import numpy as np\n",
    "import pandas as pd"
   ]
  },
  {
   "cell_type": "code",
   "execution_count": 62,
   "metadata": {},
   "outputs": [
    {
     "name": "stderr",
     "output_type": "stream",
     "text": [
      "/Users/lambert/miniconda3/lib/python3.5/site-packages/ipykernel_launcher.py:43: SettingWithCopyWarning: \n",
      "A value is trying to be set on a copy of a slice from a DataFrame.\n",
      "Try using .loc[row_indexer,col_indexer] = value instead\n",
      "\n",
      "See the caveats in the documentation: http://pandas.pydata.org/pandas-docs/stable/indexing.html#indexing-view-versus-copy\n",
      "/Users/lambert/miniconda3/lib/python3.5/site-packages/ipykernel_launcher.py:44: SettingWithCopyWarning: \n",
      "A value is trying to be set on a copy of a slice from a DataFrame.\n",
      "Try using .loc[row_indexer,col_indexer] = value instead\n",
      "\n",
      "See the caveats in the documentation: http://pandas.pydata.org/pandas-docs/stable/indexing.html#indexing-view-versus-copy\n",
      "/Users/lambert/miniconda3/lib/python3.5/site-packages/pandas/core/generic.py:4355: SettingWithCopyWarning: \n",
      "A value is trying to be set on a copy of a slice from a DataFrame\n",
      "\n",
      "See the caveats in the documentation: http://pandas.pydata.org/pandas-docs/stable/indexing.html#indexing-view-versus-copy\n",
      "  self._update_inplace(new_data)\n"
     ]
    },
    {
     "name": "stdout",
     "output_type": "stream",
     "text": [
      "X_train score =  0.9391080456313782\n",
      "feature_importances =  [0.0264337  0.29526181 0.17689528 0.24403107 0.25737813]\n",
      "roc_auc =  0.5824449019634936\n",
      "yp_X [0. 0. 0. 0. 0. 0. 0. 0. 0. 0.]\n",
      "yp_Xt [[0.95488643 0.04511357]\n",
      " [0.98816385 0.01183615]\n",
      " [0.93920014 0.06079986]\n",
      " [0.93667236 0.06332764]\n",
      " [0.92858365 0.07141635]\n",
      " [0.93667236 0.06332764]\n",
      " [0.91645109 0.08354891]\n",
      " [0.17923892 0.82076108]\n",
      " [0.98248406 0.01751594]\n",
      " [0.97266493 0.02733507]]\n",
      "return: ticket_id\n",
      "284932    0.045114\n",
      "285362    0.011836\n",
      "285361    0.060800\n",
      "285338    0.063328\n",
      "285346    0.071416\n",
      "285345    0.063328\n",
      "285347    0.083549\n",
      "285342    0.820761\n",
      "285530    0.017516\n",
      "284989    0.027335\n",
      "285344    0.073269\n",
      "285343    0.017631\n",
      "285340    0.019103\n",
      "285341    0.083549\n",
      "285349    0.071416\n",
      "285348    0.063328\n",
      "284991    0.027335\n",
      "285532    0.019063\n",
      "285406    0.022602\n",
      "285001    0.030965\n",
      "285006    0.020419\n",
      "285405    0.012534\n",
      "285337    0.020175\n",
      "285496    0.055076\n",
      "285497    0.052089\n",
      "285378    0.013884\n",
      "285589    0.020796\n",
      "285585    0.047088\n",
      "285501    0.060681\n",
      "285581    0.013503\n",
      "            ...   \n",
      "376367    0.015477\n",
      "376366    0.028942\n",
      "376362    0.194554\n",
      "376363    0.231706\n",
      "376365    0.015477\n",
      "376364    0.028942\n",
      "376228    0.060921\n",
      "376265    0.029926\n",
      "376286    0.312038\n",
      "376320    0.027454\n",
      "376314    0.022645\n",
      "376327    0.412983\n",
      "376385    0.383394\n",
      "376435    0.163368\n",
      "376370    0.879763\n",
      "376434    0.056621\n",
      "376459    0.061463\n",
      "376478    0.008758\n",
      "376473    0.028206\n",
      "376484    0.030797\n",
      "376482    0.019888\n",
      "376480    0.019888\n",
      "376479    0.019888\n",
      "376481    0.019888\n",
      "376483    0.037517\n",
      "376496    0.009217\n",
      "376497    0.009217\n",
      "376499    0.054174\n",
      "376500    0.054174\n",
      "369851    0.569391\n",
      "Length: 61001, dtype: float64\n"
     ]
    }
   ],
   "source": [
    "from sklearn.model_selection import train_test_split\n",
    "from sklearn.preprocessing import LabelEncoder\n",
    "from sklearn.ensemble import GradientBoostingClassifier\n",
    "from sklearn.model_selection import GridSearchCV\n",
    "from sklearn.preprocessing import MinMaxScaler\n",
    "from sklearn.metrics import roc_auc_score\n",
    "\n",
    "df = pd.read_csv('train.csv',encoding = 'ISO-8859-1', low_memory=False, index_col=['ticket_id'])\n",
    "test_df = pd.read_csv('test.csv',encoding = 'ISO-8859-1', low_memory=False, index_col=['ticket_id'])\n",
    "address =  pd.read_csv('addresses.csv')\n",
    "latlons = pd.read_csv('latlons.csv')\n",
    "address = address.set_index('address').join(latlons.set_index('address'), how='left')\n",
    "\n",
    "# data cleaning and first SFeatures selection\n",
    "sFeatures = ['agency_name',\n",
    " 'inspector_name',\n",
    " 'violator_name',\n",
    " 'zip_code',\n",
    " 'ticket_issued_date',\n",
    " 'hearing_date',\n",
    " 'violation_code',\n",
    " 'violation_description',\n",
    " 'disposition',\n",
    " 'fine_amount',\n",
    " 'judgment_amount',\n",
    " 'compliance'] \n",
    "df = df[sFeatures].dropna(axis=0, how='any')\n",
    "xdf = df.join(address.set_index('ticket_id'))\n",
    "testdf = test_df.join(address.set_index('ticket_id'))\n",
    "# Select X_train features for train and extract target vaule to y\n",
    "xFeatures = ['agency_name', 'disposition','judgment_amount','lat','lon','compliance']\n",
    "# xFeatures = ['judgment_amount','lat','lon','compliance']\n",
    "y = xdf['compliance']\n",
    "X = xdf[xFeatures].drop(['compliance'],axis=1)\n",
    "tFeatures = xFeatures.copy()\n",
    "tFeatures.remove('compliance')\n",
    "Xt = testdf[tFeatures].copy()\n",
    "# LabelEncoder categorical angecy_name and disposition\n",
    "le_agency = LabelEncoder().fit(np.array(X['agency_name'].tolist()))\n",
    "le_disposition = LabelEncoder().fit(np.array(Xt['disposition'].tolist()))\n",
    "X['agency_name'] = le_agency.transform(X['agency_name'])\n",
    "X['disposition'] = le_disposition.transform(X['disposition'])\n",
    "Xt['agency_name'] = le_agency.transform(Xt['agency_name'])\n",
    "Xt['disposition'] = le_disposition.transform(Xt['disposition'])\n",
    "# Fill NA Lat Lon Values\n",
    "X.lat.fillna(method='pad', inplace=True)\n",
    "X.lon.fillna(method='pad', inplace=True)\n",
    "Xt.lat.fillna(method='pad', inplace=True)\n",
    "Xt.lon.fillna(method='pad', inplace=True)\n",
    "# X_train = X\n",
    "# X_test = Xt\n",
    "y_train = y\n",
    "scaler = MinMaxScaler()\n",
    "X_train = scaler.fit_transform(X)\n",
    "X_test = scaler.transform(Xt)\n",
    "# Gradient Boosting Classification\n",
    "gbdt = GradientBoostingClassifier(n_estimators=200, max_depth=4).fit(X_train, y_train)\n",
    "score = gbdt.score(X_train, y_train)\n",
    "yp_X = gbdt.predict(X_train)\n",
    "aucscore = roc_auc_score(y_train,yp_X)\n",
    "yp_Xt = gbdt.predict_proba(X_test)\n",
    "print('X_train score = ',score)\n",
    "print('feature_importances = ', gbdt.feature_importances_)\n",
    "print('roc_auc = ',aucscore)\n",
    "print('yp_X', yp_X[0:10])\n",
    "print('yp_Xt', yp_Xt[0:10])\n",
    "\n",
    "res = pd.Series(yp_Xt[:,1], index = Xt.index)\n",
    "print ('return:', res)"
   ]
  },
  {
   "cell_type": "code",
   "execution_count": 60,
   "metadata": {},
   "outputs": [
    {
     "data": {
      "text/plain": [
       "ticket_id\n",
       "284932    0.045114\n",
       "285362    0.011836\n",
       "285361    0.060800\n",
       "285338    0.063328\n",
       "285346    0.071416\n",
       "285345    0.063328\n",
       "285347    0.083549\n",
       "285342    0.820761\n",
       "285530    0.017516\n",
       "284989    0.027335\n",
       "285344    0.073269\n",
       "285343    0.017631\n",
       "285340    0.019103\n",
       "285341    0.083549\n",
       "285349    0.071416\n",
       "285348    0.063328\n",
       "284991    0.027335\n",
       "285532    0.019063\n",
       "285406    0.022602\n",
       "285001    0.030965\n",
       "285006    0.020419\n",
       "285405    0.012534\n",
       "285337    0.020175\n",
       "285496    0.055076\n",
       "285497    0.052089\n",
       "285378    0.013884\n",
       "285589    0.020796\n",
       "285585    0.047088\n",
       "285501    0.060681\n",
       "285581    0.013503\n",
       "            ...   \n",
       "376367    0.015477\n",
       "376366    0.028942\n",
       "376362    0.194554\n",
       "376363    0.231706\n",
       "376365    0.015477\n",
       "376364    0.028942\n",
       "376228    0.060921\n",
       "376265    0.029926\n",
       "376286    0.312038\n",
       "376320    0.027454\n",
       "376314    0.022645\n",
       "376327    0.412983\n",
       "376385    0.383394\n",
       "376435    0.163368\n",
       "376370    0.879763\n",
       "376434    0.056621\n",
       "376459    0.061463\n",
       "376478    0.008758\n",
       "376473    0.028206\n",
       "376484    0.030797\n",
       "376482    0.019888\n",
       "376480    0.019888\n",
       "376479    0.019888\n",
       "376481    0.019888\n",
       "376483    0.037517\n",
       "376496    0.009217\n",
       "376497    0.009217\n",
       "376499    0.054174\n",
       "376500    0.054174\n",
       "369851    0.569391\n",
       "Length: 61001, dtype: float64"
      ]
     },
     "execution_count": 60,
     "metadata": {},
     "output_type": "execute_result"
    }
   ],
   "source": [
    "res"
   ]
  },
  {
   "cell_type": "code",
   "execution_count": 50,
   "metadata": {},
   "outputs": [
    {
     "ename": "Exception",
     "evalue": "Data must be 1-dimensional",
     "output_type": "error",
     "traceback": [
      "\u001b[0;31m---------------------------------------------------------------------------\u001b[0m",
      "\u001b[0;31mException\u001b[0m                                 Traceback (most recent call last)",
      "\u001b[0;32m<ipython-input-50-b808333a6788>\u001b[0m in \u001b[0;36m<module>\u001b[0;34m()\u001b[0m\n\u001b[1;32m      1\u001b[0m \u001b[0manswer\u001b[0m \u001b[0;34m=\u001b[0m \u001b[0mpd\u001b[0m\u001b[0;34m.\u001b[0m\u001b[0mSeries\u001b[0m\u001b[0;34m(\u001b[0m\u001b[0mlist\u001b[0m\u001b[0;34m(\u001b[0m\u001b[0mzip\u001b[0m\u001b[0;34m(\u001b[0m\u001b[0mXt\u001b[0m\u001b[0;34m.\u001b[0m\u001b[0mindex\u001b[0m\u001b[0;34m,\u001b[0m\u001b[0myp_Xt\u001b[0m\u001b[0;34m[\u001b[0m\u001b[0;34m:\u001b[0m\u001b[0;34m,\u001b[0m\u001b[0;36m1\u001b[0m\u001b[0;34m]\u001b[0m\u001b[0;34m)\u001b[0m\u001b[0;34m)\u001b[0m\u001b[0;34m)\u001b[0m\u001b[0;34m\u001b[0m\u001b[0m\n\u001b[0;32m----> 2\u001b[0;31m \u001b[0ma\u001b[0m \u001b[0;34m=\u001b[0m \u001b[0mpd\u001b[0m\u001b[0;34m.\u001b[0m\u001b[0mSeries\u001b[0m\u001b[0;34m(\u001b[0m\u001b[0myp_Xt\u001b[0m\u001b[0;34m[\u001b[0m\u001b[0;34m:\u001b[0m\u001b[0;36m1\u001b[0m\u001b[0;34m]\u001b[0m\u001b[0;34m)\u001b[0m\u001b[0;34m\u001b[0m\u001b[0m\n\u001b[0m",
      "\u001b[0;32m~/miniconda3/lib/python3.5/site-packages/pandas/core/series.py\u001b[0m in \u001b[0;36m__init__\u001b[0;34m(self, data, index, dtype, name, copy, fastpath)\u001b[0m\n\u001b[1;32m    262\u001b[0m             \u001b[0;32melse\u001b[0m\u001b[0;34m:\u001b[0m\u001b[0;34m\u001b[0m\u001b[0m\n\u001b[1;32m    263\u001b[0m                 data = _sanitize_array(data, index, dtype, copy,\n\u001b[0;32m--> 264\u001b[0;31m                                        raise_cast_failure=True)\n\u001b[0m\u001b[1;32m    265\u001b[0m \u001b[0;34m\u001b[0m\u001b[0m\n\u001b[1;32m    266\u001b[0m                 \u001b[0mdata\u001b[0m \u001b[0;34m=\u001b[0m \u001b[0mSingleBlockManager\u001b[0m\u001b[0;34m(\u001b[0m\u001b[0mdata\u001b[0m\u001b[0;34m,\u001b[0m \u001b[0mindex\u001b[0m\u001b[0;34m,\u001b[0m \u001b[0mfastpath\u001b[0m\u001b[0;34m=\u001b[0m\u001b[0;32mTrue\u001b[0m\u001b[0;34m)\u001b[0m\u001b[0;34m\u001b[0m\u001b[0m\n",
      "\u001b[0;32m~/miniconda3/lib/python3.5/site-packages/pandas/core/series.py\u001b[0m in \u001b[0;36m_sanitize_array\u001b[0;34m(data, index, dtype, copy, raise_cast_failure)\u001b[0m\n\u001b[1;32m   3273\u001b[0m     \u001b[0;32melif\u001b[0m \u001b[0msubarr\u001b[0m\u001b[0;34m.\u001b[0m\u001b[0mndim\u001b[0m \u001b[0;34m>\u001b[0m \u001b[0;36m1\u001b[0m\u001b[0;34m:\u001b[0m\u001b[0;34m\u001b[0m\u001b[0m\n\u001b[1;32m   3274\u001b[0m         \u001b[0;32mif\u001b[0m \u001b[0misinstance\u001b[0m\u001b[0;34m(\u001b[0m\u001b[0mdata\u001b[0m\u001b[0;34m,\u001b[0m \u001b[0mnp\u001b[0m\u001b[0;34m.\u001b[0m\u001b[0mndarray\u001b[0m\u001b[0;34m)\u001b[0m\u001b[0;34m:\u001b[0m\u001b[0;34m\u001b[0m\u001b[0m\n\u001b[0;32m-> 3275\u001b[0;31m             \u001b[0;32mraise\u001b[0m \u001b[0mException\u001b[0m\u001b[0;34m(\u001b[0m\u001b[0;34m'Data must be 1-dimensional'\u001b[0m\u001b[0;34m)\u001b[0m\u001b[0;34m\u001b[0m\u001b[0m\n\u001b[0m\u001b[1;32m   3276\u001b[0m         \u001b[0;32melse\u001b[0m\u001b[0;34m:\u001b[0m\u001b[0;34m\u001b[0m\u001b[0m\n\u001b[1;32m   3277\u001b[0m             \u001b[0msubarr\u001b[0m \u001b[0;34m=\u001b[0m \u001b[0m_asarray_tuplesafe\u001b[0m\u001b[0;34m(\u001b[0m\u001b[0mdata\u001b[0m\u001b[0;34m,\u001b[0m \u001b[0mdtype\u001b[0m\u001b[0;34m=\u001b[0m\u001b[0mdtype\u001b[0m\u001b[0;34m)\u001b[0m\u001b[0;34m\u001b[0m\u001b[0m\n",
      "\u001b[0;31mException\u001b[0m: Data must be 1-dimensional"
     ]
    }
   ],
   "source": [
    "answer = pd.Series(list(zip(Xt.index,yp_Xt[:,1])))\n"
   ]
  },
  {
   "cell_type": "code",
   "execution_count": 47,
   "metadata": {},
   "outputs": [
    {
     "data": {
      "text/plain": [
       "0         (284932, 0.04511357240434943)\n",
       "1        (285362, 0.011836146669692023)\n",
       "2         (285361, 0.06079985699624934)\n",
       "3         (285338, 0.06332763791136495)\n",
       "4         (285346, 0.07141634644625183)\n",
       "5         (285345, 0.06332763791136495)\n",
       "6          (285347, 0.0835489149720091)\n",
       "7          (285342, 0.8207610796530722)\n",
       "8        (285530, 0.017515939004768735)\n",
       "9        (284989, 0.027335074658205855)\n",
       "10         (285344, 0.0732687832079907)\n",
       "11       (285343, 0.017630510658382538)\n",
       "12       (285340, 0.019103140745363643)\n",
       "13         (285341, 0.0835489149720091)\n",
       "14        (285349, 0.07141634644625183)\n",
       "15        (285348, 0.06332763791136495)\n",
       "16       (284991, 0.027335074658205855)\n",
       "17        (285532, 0.01906266865260934)\n",
       "18       (285406, 0.022601799058028574)\n",
       "19       (285001, 0.030964725261745818)\n",
       "20       (285006, 0.020418981123588066)\n",
       "21       (285405, 0.012534001975383239)\n",
       "22        (285337, 0.02017526762373888)\n",
       "23        (285496, 0.05507553099715047)\n",
       "24       (285497, 0.052088888930210776)\n",
       "25       (285378, 0.013884026848573757)\n",
       "26        (285589, 0.02079635788477201)\n",
       "27        (285585, 0.04708760310094963)\n",
       "28        (285501, 0.06068072328889326)\n",
       "29       (285581, 0.013503305537278803)\n",
       "                      ...              \n",
       "60971    (376367, 0.015476500430811186)\n",
       "60972    (376366, 0.028942327821607838)\n",
       "60973     (376362, 0.19455407902516286)\n",
       "60974     (376363, 0.23170615592596705)\n",
       "60975    (376365, 0.015476500430811186)\n",
       "60976    (376364, 0.028942327821607838)\n",
       "60977     (376228, 0.06092089988034498)\n",
       "60978    (376265, 0.029926411638605984)\n",
       "60979       (376286, 0.312037530043544)\n",
       "60980    (376320, 0.027453871077270552)\n",
       "60981     (376314, 0.02264466231406458)\n",
       "60982     (376327, 0.41298310920374454)\n",
       "60983      (376385, 0.3833942092698282)\n",
       "60984     (376435, 0.16336819581615147)\n",
       "60985      (376370, 0.8797625109356058)\n",
       "60986     (376434, 0.05662069039536485)\n",
       "60987     (376459, 0.06146331099326339)\n",
       "60988    (376478, 0.008758275550322167)\n",
       "60989     (376473, 0.02820644947836871)\n",
       "60990    (376484, 0.030796795163928768)\n",
       "60991    (376482, 0.019887825605508388)\n",
       "60992    (376480, 0.019887825605508388)\n",
       "60993    (376479, 0.019887825605508388)\n",
       "60994    (376481, 0.019887825605508388)\n",
       "60995    (376483, 0.037517081949258124)\n",
       "60996    (376496, 0.009217173845814478)\n",
       "60997    (376497, 0.009217173845814478)\n",
       "60998     (376499, 0.05417427652869376)\n",
       "60999     (376500, 0.05417427652869376)\n",
       "61000      (369851, 0.5693905944658125)\n",
       "Length: 61001, dtype: object"
      ]
     },
     "execution_count": 47,
     "metadata": {},
     "output_type": "execute_result"
    }
   ],
   "source": [
    "bm = answer\n",
    "bm"
   ]
  },
  {
   "cell_type": "code",
   "execution_count": 55,
   "metadata": {},
   "outputs": [],
   "source": [
    "bm = a"
   ]
  },
  {
   "cell_type": "code",
   "execution_count": 44,
   "metadata": {},
   "outputs": [
    {
     "data": {
      "text/plain": [
       "pandas.core.series.Series"
      ]
     },
     "execution_count": 44,
     "metadata": {},
     "output_type": "execute_result"
    }
   ],
   "source": [
    "type(bm)"
   ]
  },
  {
   "cell_type": "code",
   "execution_count": null,
   "metadata": {
    "collapsed": true
   },
   "outputs": [],
   "source": []
  },
  {
   "cell_type": "code",
   "execution_count": 56,
   "metadata": {},
   "outputs": [
    {
     "name": "stdout",
     "output_type": "stream",
     "text": [
      "Data type Test: Passed\n",
      "Data shape Test: Passed\n",
      "Data Values Test: Passed\n",
      "Data Values type Test: Passed\n",
      "Index type Test: Passed\n",
      "Index values type Test: Passed\n",
      "Output index shape test:Passed\n",
      "Output index test: Passed\n",
      "\n"
     ]
    }
   ],
   "source": [
    "res = 'Data type Test: '\n",
    "res += ['Failed: type(bm) should Series\\n','Passed\\n'][type(bm)==pd.Series]\n",
    "res += 'Data shape Test: '\n",
    "res += ['Failed: len(bm) should be 61001\\n','Passed\\n'][len(bm)==61001]\n",
    "res += 'Data Values Test: '\n",
    "res += ['Failed: all values should be in [0.,1.]\\n','Passed\\n'][all((bm<=1.) & (bm>=0.))]\n",
    "res += 'Data Values type Test: '\n",
    "res += ['Failed: bm.dtype should be float\\n','Passed\\n'][str(bm.dtype).count('float')>0]\n",
    "res += 'Index type Test: '\n",
    "res += ['Failed: type(bm.index) should be Int64Index\\n','Passed\\n'][type(bm.index)==pd.Int64Index]\n",
    "res += 'Index values type Test: '\n",
    "res += ['Failed: type(bm.index[0]) should be int64\\n','Passed\\n'][str(type(bm.index[0])).count(\"int64\")>0]\n",
    "\n",
    "res += 'Output index shape test:'\n",
    "res += ['Failed, bm.index.shape should be (61001,)\\n','Passed\\n'][bm.index.shape==(61001,)]\n",
    "\n",
    "res += 'Output index test: '\n",
    "if bm.index.shape==(61001,):\n",
    "    res +=['Failed\\n','Passed\\n'][all(pd.read_csv('test.csv',usecols=[0],index_col=0).sort_index().index.values==bm.sort_index().index.values)]\n",
    "else:\n",
    "    res+='Failed'\n",
    "print(res)"
   ]
  },
  {
   "cell_type": "code",
   "execution_count": 57,
   "metadata": {},
   "outputs": [
    {
     "data": {
      "text/plain": [
       "'Data type Test: Passed\\nData shape Test: Passed\\nData Values Test: Passed\\nData Values type Test: Passed\\nIndex type Test: Passed\\nIndex values type Test: Passed\\nOutput index shape test:Passed\\nOutput index test: Passed\\n'"
      ]
     },
     "execution_count": 57,
     "metadata": {},
     "output_type": "execute_result"
    }
   ],
   "source": [
    "res"
   ]
  },
  {
   "cell_type": "code",
   "execution_count": null,
   "metadata": {
    "collapsed": true
   },
   "outputs": [],
   "source": []
  }
 ],
 "metadata": {
  "kernelspec": {
   "display_name": "Python 3",
   "language": "python",
   "name": "python3"
  },
  "language_info": {
   "codemirror_mode": {
    "name": "ipython",
    "version": 3
   },
   "file_extension": ".py",
   "mimetype": "text/x-python",
   "name": "python",
   "nbconvert_exporter": "python",
   "pygments_lexer": "ipython3",
   "version": "3.6.4"
  }
 },
 "nbformat": 4,
 "nbformat_minor": 2
}
